{
 "cells": [
  {
   "cell_type": "markdown",
   "id": "c9b607d2",
   "metadata": {},
   "source": [
    "# Markdown"
   ]
  },
  {
   "cell_type": "markdown",
   "id": "077a7c23",
   "metadata": {},
   "source": [
    "# 1. Hello python\n",
    "name= \"Aaron\"\n",
    "goals = ['learn ML', 'learn DL', 'deeply learn DL']\n",
    "\n",
    "print(\"Hello,\", name, \"!\")\n",
    "print(\"Hello, \" + name + \"!\")\n",
    "\n",
    "# for(1 starting point; 2 end condition; 4 increment;) {3 executing code;}\n",
    "for g in goals:\n",
    "    print(\"-\", g)\n",
    "\n",
    "# if - elif - else\n",
    "if \"learn ML\" in goals:\n",
    "    print(\"Let's learn ML!\")\n"
   ]
  }
 ],
 "metadata": {
  "language_info": {
   "name": "python"
  }
 },
 "nbformat": 4,
 "nbformat_minor": 5
}
